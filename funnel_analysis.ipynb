{
 "cells": [
  {
   "cell_type": "code",
   "execution_count": 1,
   "metadata": {},
   "outputs": [],
   "source": [
    "import pandas as pd"
   ]
  },
  {
   "cell_type": "code",
   "execution_count": 2,
   "metadata": {},
   "outputs": [
    {
     "data": {
      "text/plain": [
       "['search_page_table.csv',\n",
       " 'payment_page_table.csv',\n",
       " 'home_page_table.csv',\n",
       " 'user_table.csv',\n",
       " 'payment_confirmation_table.csv']"
      ]
     },
     "execution_count": 2,
     "metadata": {},
     "output_type": "execute_result"
    }
   ],
   "source": [
    "import os\n",
    "os.listdir('./funnel-analysis/')"
   ]
  },
  {
   "cell_type": "code",
   "execution_count": 3,
   "metadata": {},
   "outputs": [],
   "source": [
    "search_page_table = pd.read_csv(\"./funnel-analysis/search_page_table.csv\")\n",
    "payment_page_table = pd.read_csv(\"./funnel-analysis/payment_page_table.csv\")\n",
    "home_page_table = pd.read_csv(\"./funnel-analysis/home_page_table.csv\")\n",
    "user_table = pd.read_csv(\"./funnel-analysis/user_table.csv\")\n",
    "payment_confirmation_table = pd.read_csv(\"./funnel-analysis/payment_confirmation_table.csv\")"
   ]
  },
  {
   "cell_type": "code",
   "execution_count": 4,
   "metadata": {},
   "outputs": [
    {
     "name": "stdout",
     "output_type": "stream",
     "text": [
      "45200 45200\n"
     ]
    }
   ],
   "source": [
    "print(search_page_table['page'].value_counts()['search_page'], search_page_table['user_id'].nunique())"
   ]
  },
  {
   "cell_type": "code",
   "execution_count": 5,
   "metadata": {},
   "outputs": [
    {
     "data": {
      "text/html": [
       "<div>\n",
       "<style scoped>\n",
       "    .dataframe tbody tr th:only-of-type {\n",
       "        vertical-align: middle;\n",
       "    }\n",
       "\n",
       "    .dataframe tbody tr th {\n",
       "        vertical-align: top;\n",
       "    }\n",
       "\n",
       "    .dataframe thead th {\n",
       "        text-align: right;\n",
       "    }\n",
       "</style>\n",
       "<table border=\"1\" class=\"dataframe\">\n",
       "  <thead>\n",
       "    <tr style=\"text-align: right;\">\n",
       "      <th></th>\n",
       "      <th>user_id</th>\n",
       "      <th>page</th>\n",
       "    </tr>\n",
       "  </thead>\n",
       "  <tbody>\n",
       "    <tr>\n",
       "      <th>0</th>\n",
       "      <td>15866</td>\n",
       "      <td>search_page</td>\n",
       "    </tr>\n",
       "    <tr>\n",
       "      <th>1</th>\n",
       "      <td>347058</td>\n",
       "      <td>search_page</td>\n",
       "    </tr>\n",
       "  </tbody>\n",
       "</table>\n",
       "</div>"
      ],
      "text/plain": [
       "   user_id         page\n",
       "0    15866  search_page\n",
       "1   347058  search_page"
      ]
     },
     "execution_count": 5,
     "metadata": {},
     "output_type": "execute_result"
    }
   ],
   "source": [
    "search_page_table.head(2)"
   ]
  },
  {
   "cell_type": "code",
   "execution_count": 6,
   "metadata": {},
   "outputs": [
    {
     "name": "stdout",
     "output_type": "stream",
     "text": [
      "6030 6030\n"
     ]
    }
   ],
   "source": [
    "print(payment_page_table['page'].value_counts()['payment_page'], payment_page_table['user_id'].nunique())"
   ]
  },
  {
   "cell_type": "code",
   "execution_count": 7,
   "metadata": {},
   "outputs": [
    {
     "data": {
      "text/html": [
       "<div>\n",
       "<style scoped>\n",
       "    .dataframe tbody tr th:only-of-type {\n",
       "        vertical-align: middle;\n",
       "    }\n",
       "\n",
       "    .dataframe tbody tr th {\n",
       "        vertical-align: top;\n",
       "    }\n",
       "\n",
       "    .dataframe thead th {\n",
       "        text-align: right;\n",
       "    }\n",
       "</style>\n",
       "<table border=\"1\" class=\"dataframe\">\n",
       "  <thead>\n",
       "    <tr style=\"text-align: right;\">\n",
       "      <th></th>\n",
       "      <th>user_id</th>\n",
       "      <th>page</th>\n",
       "    </tr>\n",
       "  </thead>\n",
       "  <tbody>\n",
       "    <tr>\n",
       "      <th>0</th>\n",
       "      <td>253019</td>\n",
       "      <td>payment_page</td>\n",
       "    </tr>\n",
       "    <tr>\n",
       "      <th>1</th>\n",
       "      <td>310478</td>\n",
       "      <td>payment_page</td>\n",
       "    </tr>\n",
       "  </tbody>\n",
       "</table>\n",
       "</div>"
      ],
      "text/plain": [
       "   user_id          page\n",
       "0   253019  payment_page\n",
       "1   310478  payment_page"
      ]
     },
     "execution_count": 7,
     "metadata": {},
     "output_type": "execute_result"
    }
   ],
   "source": [
    "payment_page_table.head(2)"
   ]
  },
  {
   "cell_type": "code",
   "execution_count": 8,
   "metadata": {},
   "outputs": [
    {
     "name": "stdout",
     "output_type": "stream",
     "text": [
      "90400 90400\n"
     ]
    }
   ],
   "source": [
    "print(home_page_table['page'].value_counts()['home_page'], home_page_table['user_id'].nunique())"
   ]
  },
  {
   "cell_type": "code",
   "execution_count": 9,
   "metadata": {},
   "outputs": [
    {
     "data": {
      "text/html": [
       "<div>\n",
       "<style scoped>\n",
       "    .dataframe tbody tr th:only-of-type {\n",
       "        vertical-align: middle;\n",
       "    }\n",
       "\n",
       "    .dataframe tbody tr th {\n",
       "        vertical-align: top;\n",
       "    }\n",
       "\n",
       "    .dataframe thead th {\n",
       "        text-align: right;\n",
       "    }\n",
       "</style>\n",
       "<table border=\"1\" class=\"dataframe\">\n",
       "  <thead>\n",
       "    <tr style=\"text-align: right;\">\n",
       "      <th></th>\n",
       "      <th>user_id</th>\n",
       "      <th>page</th>\n",
       "    </tr>\n",
       "  </thead>\n",
       "  <tbody>\n",
       "    <tr>\n",
       "      <th>0</th>\n",
       "      <td>313593</td>\n",
       "      <td>home_page</td>\n",
       "    </tr>\n",
       "    <tr>\n",
       "      <th>1</th>\n",
       "      <td>468315</td>\n",
       "      <td>home_page</td>\n",
       "    </tr>\n",
       "  </tbody>\n",
       "</table>\n",
       "</div>"
      ],
      "text/plain": [
       "   user_id       page\n",
       "0   313593  home_page\n",
       "1   468315  home_page"
      ]
     },
     "execution_count": 9,
     "metadata": {},
     "output_type": "execute_result"
    }
   ],
   "source": [
    "home_page_table.head(2)"
   ]
  },
  {
   "cell_type": "code",
   "execution_count": 10,
   "metadata": {},
   "outputs": [
    {
     "name": "stdout",
     "output_type": "stream",
     "text": [
      "452 452\n"
     ]
    }
   ],
   "source": [
    "print(payment_confirmation_table['page'].value_counts()['payment_confirmation_page'], \n",
    "      payment_confirmation_table['user_id'].nunique())"
   ]
  },
  {
   "cell_type": "code",
   "execution_count": 11,
   "metadata": {},
   "outputs": [
    {
     "name": "stdout",
     "output_type": "stream",
     "text": [
      "True\n",
      "True\n",
      "True\n",
      "True\n",
      "True\n",
      "True\n"
     ]
    }
   ],
   "source": [
    "print(set(search_page_table.user_id).issubset(set(home_page_table.user_id)))\n",
    "print(set(payment_page_table.user_id).issubset(set(home_page_table.user_id)))\n",
    "print(set(payment_confirmation_table.user_id).issubset(set(home_page_table.user_id)))\n",
    "print(set(home_page_table.user_id).issubset(set(user_table.user_id)))\n",
    "\n",
    "print(set(payment_page_table.user_id).issubset(set(search_page_table.user_id)))\n",
    "print(set(payment_confirmation_table.user_id).issubset(set(payment_page_table.user_id)))"
   ]
  },
  {
   "cell_type": "code",
   "execution_count": 12,
   "metadata": {},
   "outputs": [],
   "source": [
    "# home_page_table > search_page_table > payment_page_table > payment_confirmation_table"
   ]
  },
  {
   "cell_type": "code",
   "execution_count": 13,
   "metadata": {},
   "outputs": [
    {
     "name": "stdout",
     "output_type": "stream",
     "text": [
      "90400 90400 45200 6030 452\n"
     ]
    }
   ],
   "source": [
    "print(len(user_table.user_id), len(home_page_table.user_id), len(search_page_table.user_id), \n",
    "      len(payment_page_table.user_id), \n",
    "    len(payment_confirmation_table.user_id))"
   ]
  },
  {
   "cell_type": "code",
   "execution_count": 14,
   "metadata": {},
   "outputs": [],
   "source": [
    "users_dict = {'user_table':len(user_table.user_id), \n",
    "              'home_page_table':len(home_page_table.user_id), \n",
    "              'search_page_table':len(search_page_table.user_id), \n",
    "              'payment_page_table':len(payment_page_table.user_id),\n",
    "             'payment_confirmation_table':len(payment_confirmation_table.user_id)}"
   ]
  },
  {
   "cell_type": "code",
   "execution_count": 15,
   "metadata": {},
   "outputs": [],
   "source": [
    "table_name = [k for k in users_dict.keys()]\n",
    "value_count = [v for v in users_dict.values()]"
   ]
  },
  {
   "cell_type": "code",
   "execution_count": 16,
   "metadata": {},
   "outputs": [
    {
     "data": {
      "text/plain": [
       "[90400, 90400, 45200, 6030, 452]"
      ]
     },
     "execution_count": 16,
     "metadata": {},
     "output_type": "execute_result"
    }
   ],
   "source": [
    "value_count"
   ]
  },
  {
   "cell_type": "code",
   "execution_count": 17,
   "metadata": {},
   "outputs": [
    {
     "name": "stdout",
     "output_type": "stream",
     "text": [
      "1.0\n",
      "0.5\n",
      "0.1334070796460177\n",
      "0.07495854063018242\n"
     ]
    }
   ],
   "source": [
    "for i in range(len(value_count)-1):\n",
    "    for j in range(i+1, len(value_count)):\n",
    "        print (value_count[j]/value_count[i])\n",
    "        break"
   ]
  },
  {
   "cell_type": "code",
   "execution_count": 18,
   "metadata": {},
   "outputs": [
    {
     "name": "stdout",
     "output_type": "stream",
     "text": [
      "1.0\n",
      "0.5\n",
      "0.06670353982300885\n",
      "0.005\n"
     ]
    }
   ],
   "source": [
    "for i in range(1, len(value_count)):\n",
    "    print (value_count[i]/value_count[0])"
   ]
  },
  {
   "cell_type": "code",
   "execution_count": 26,
   "metadata": {},
   "outputs": [],
   "source": [
    "merged_df = home_page_table.merge(search_page_table, how = 'left', on = 'user_id', \n",
    "                                  suffixes=('_home', '_search'))"
   ]
  },
  {
   "cell_type": "code",
   "execution_count": 27,
   "metadata": {},
   "outputs": [],
   "source": [
    "merged_df = merged_df.merge(payment_page_table, how = 'left', on = 'user_id', \n",
    "                                  suffixes=('_1', '_payment'))"
   ]
  },
  {
   "cell_type": "code",
   "execution_count": 29,
   "metadata": {},
   "outputs": [],
   "source": [
    "merged_df = merged_df.merge(payment_confirmation_table, how = 'left', on = 'user_id', \n",
    "                                  suffixes=('_1', '_payment_confirm'))"
   ]
  },
  {
   "cell_type": "code",
   "execution_count": 48,
   "metadata": {},
   "outputs": [
    {
     "data": {
      "text/html": [
       "<div>\n",
       "<style scoped>\n",
       "    .dataframe tbody tr th:only-of-type {\n",
       "        vertical-align: middle;\n",
       "    }\n",
       "\n",
       "    .dataframe tbody tr th {\n",
       "        vertical-align: top;\n",
       "    }\n",
       "\n",
       "    .dataframe thead th {\n",
       "        text-align: right;\n",
       "    }\n",
       "</style>\n",
       "<table border=\"1\" class=\"dataframe\">\n",
       "  <thead>\n",
       "    <tr style=\"text-align: right;\">\n",
       "      <th></th>\n",
       "      <th>user_id</th>\n",
       "      <th>date</th>\n",
       "      <th>device</th>\n",
       "      <th>sex</th>\n",
       "    </tr>\n",
       "  </thead>\n",
       "  <tbody>\n",
       "    <tr>\n",
       "      <th>0</th>\n",
       "      <td>450007</td>\n",
       "      <td>2015-02-28</td>\n",
       "      <td>Desktop</td>\n",
       "      <td>Female</td>\n",
       "    </tr>\n",
       "    <tr>\n",
       "      <th>1</th>\n",
       "      <td>756838</td>\n",
       "      <td>2015-01-13</td>\n",
       "      <td>Desktop</td>\n",
       "      <td>Male</td>\n",
       "    </tr>\n",
       "  </tbody>\n",
       "</table>\n",
       "</div>"
      ],
      "text/plain": [
       "   user_id        date   device     sex\n",
       "0   450007  2015-02-28  Desktop  Female\n",
       "1   756838  2015-01-13  Desktop    Male"
      ]
     },
     "execution_count": 48,
     "metadata": {},
     "output_type": "execute_result"
    }
   ],
   "source": [
    "user_table.head(2)"
   ]
  },
  {
   "cell_type": "code",
   "execution_count": 20,
   "metadata": {},
   "outputs": [
    {
     "name": "stdout",
     "output_type": "stream",
     "text": [
      "2015-01-01 2015-04-30 120\n",
      "\n",
      "\n",
      "Desktop    60200\n",
      "Mobile     30200\n",
      "Name: device, dtype: int64\n",
      "\n",
      "\n",
      "Male      45325\n",
      "Female    45075\n",
      "Name: sex, dtype: int64\n",
      "\n",
      "\n",
      "    device     sex  user_id\n",
      "0  Desktop  Female    29997\n",
      "1  Desktop    Male    30203\n",
      "2   Mobile  Female    15078\n",
      "3   Mobile    Male    15122\n"
     ]
    }
   ],
   "source": [
    "print (user_table.date.min(), user_table.date.max(), user_table.date.nunique())\n",
    "print ('\\n')\n",
    "print (user_table['device'].value_counts())\n",
    "print ('\\n')\n",
    "print (user_table['sex'].value_counts())\n",
    "print ('\\n')\n",
    "print (user_table.groupby(['device', 'sex'])['user_id'].count().reset_index())"
   ]
  },
  {
   "cell_type": "code",
   "execution_count": 23,
   "metadata": {},
   "outputs": [],
   "source": [
    "desktop_users = user_table[user_table.device=='Desktop']\n",
    "mobile_users = user_table[user_table.device=='Mobile']"
   ]
  },
  {
   "cell_type": "code",
   "execution_count": 24,
   "metadata": {},
   "outputs": [],
   "source": [
    "desktop_user_ids = desktop_users.user_id.tolist()\n",
    "mobile_user_ids = mobile_users.user_id.tolist()"
   ]
  },
  {
   "cell_type": "code",
   "execution_count": 25,
   "metadata": {},
   "outputs": [
    {
     "name": "stdout",
     "output_type": "stream",
     "text": [
      "60200 60200 30100 3010 150\n"
     ]
    }
   ],
   "source": [
    "print(len(user_table[user_table.user_id.isin(desktop_user_ids)]), \n",
    "      len(home_page_table[home_page_table.user_id.isin(desktop_user_ids)]), \n",
    "      len(search_page_table[search_page_table.user_id.isin(desktop_user_ids)]), \n",
    "      len(payment_page_table[payment_page_table.user_id.isin(desktop_user_ids)]), \n",
    "    len(payment_confirmation_table[payment_confirmation_table.user_id.isin(desktop_user_ids)]))"
   ]
  },
  {
   "cell_type": "code",
   "execution_count": 26,
   "metadata": {},
   "outputs": [],
   "source": [
    "users_dict = {'desktop_user_table':60200, \n",
    "              'desktop_home_page_table':60200, \n",
    "              'desktop_search_page_table':30100, \n",
    "              'desktop_payment_page_table':3010,\n",
    "             'desktop_payment_confirmation_table':150}"
   ]
  },
  {
   "cell_type": "code",
   "execution_count": 27,
   "metadata": {},
   "outputs": [
    {
     "name": "stdout",
     "output_type": "stream",
     "text": [
      "1.0\n",
      "0.5\n",
      "0.1\n",
      "0.04983388704318937\n"
     ]
    }
   ],
   "source": [
    "table_name = [k for k in users_dict.keys()]\n",
    "value_count = [v for v in users_dict.values()]\n",
    "for i in range(len(value_count)-1):\n",
    "    for j in range(i+1, len(value_count)):\n",
    "        print (value_count[j]/value_count[i])\n",
    "        break"
   ]
  },
  {
   "cell_type": "code",
   "execution_count": 28,
   "metadata": {},
   "outputs": [
    {
     "name": "stdout",
     "output_type": "stream",
     "text": [
      "1.0\n",
      "0.5\n",
      "0.05\n",
      "0.0024916943521594683\n"
     ]
    }
   ],
   "source": [
    "for i in range(1, len(value_count)):\n",
    "    print (value_count[i]/value_count[0])"
   ]
  },
  {
   "cell_type": "code",
   "execution_count": 29,
   "metadata": {},
   "outputs": [
    {
     "name": "stdout",
     "output_type": "stream",
     "text": [
      "30200 30200 15100 3020 302\n"
     ]
    }
   ],
   "source": [
    "print(len(user_table[user_table.user_id.isin(mobile_user_ids)]), \n",
    "      len(home_page_table[home_page_table.user_id.isin(mobile_user_ids)]), \n",
    "      len(search_page_table[search_page_table.user_id.isin(mobile_user_ids)]), \n",
    "      len(payment_page_table[payment_page_table.user_id.isin(mobile_user_ids)]), \n",
    "    len(payment_confirmation_table[payment_confirmation_table.user_id.isin(mobile_user_ids)]))"
   ]
  },
  {
   "cell_type": "code",
   "execution_count": 30,
   "metadata": {},
   "outputs": [],
   "source": [
    "users_dict = {'mobile_user_table':30200, \n",
    "              'mobile_home_page_table':30200, \n",
    "              'mobile_search_page_table':15100, \n",
    "              'mobile_payment_page_table':3020,\n",
    "             'mobile_payment_confirmation_table':302}"
   ]
  },
  {
   "cell_type": "code",
   "execution_count": 31,
   "metadata": {},
   "outputs": [
    {
     "name": "stdout",
     "output_type": "stream",
     "text": [
      "1.0\n",
      "0.5\n",
      "0.2\n",
      "0.1\n"
     ]
    }
   ],
   "source": [
    "table_name = [k for k in users_dict.keys()]\n",
    "value_count = [v for v in users_dict.values()]\n",
    "for i in range(len(value_count)-1):\n",
    "    for j in range(i+1, len(value_count)):\n",
    "        print (value_count[j]/value_count[i])\n",
    "        break"
   ]
  },
  {
   "cell_type": "code",
   "execution_count": 32,
   "metadata": {},
   "outputs": [
    {
     "name": "stdout",
     "output_type": "stream",
     "text": [
      "1.0\n",
      "0.5\n",
      "0.1\n",
      "0.01\n"
     ]
    }
   ],
   "source": [
    "for i in range(1, len(value_count)):\n",
    "    print (value_count[i]/value_count[0])"
   ]
  },
  {
   "cell_type": "markdown",
   "metadata": {},
   "source": [
    "We can summarize the above results as follows:<br>\n",
    "For any category of Users(i.e. All, Desktop and Mobile), we can answer two questions?<br>\n",
    "<font color = 'blue'>1. What % of users are converting to next page from just previous page?</font><br>\n",
    "<font color = 'blue'>2. What % of users are converting to next page from Home page?</font><br>\n",
    "\n",
    "**For overall customers**<br>\n",
    "<font color = 'blue'> 1. What % of users are converting to next page from just previous page?</font><br>\n",
    "Home Page Users (100%) ---> Search Page Users (50%) <br>\n",
    "Search Page Users (100%) ---> Payment Page Users (13%) <br>\n",
    "Payment Page Users (100%) ---> Payment Page Conf. Users (7%)\n",
    "\n",
    "\n",
    "<font color = 'blue'> 2. What % of users are converting to next page from Home page?</font><br>\n",
    "Home Page Users (100%) ---> Search Page Users (50%)<br>\n",
    "Home Page Users (100%) ---> Payment Page Users (6%)<br>\n",
    "Home Page Users (100%) ---> Payment Page Conf. Users (.5%)\n",
    "\n",
    "**For Desktop customers**<br>\n",
    "<font color = 'blue'> 1. What % of users are converting to next page from just previous page?</font><br>\n",
    "Home Page Users (100%) ---> Search Page Users (50%)<br>\n",
    "Search Page Users (100%) ---> Payment Page Users (10%)<br>\n",
    "Payment Page Users (100%) ---> Payment Page Conf. Users (4%)\n",
    "\n",
    "\n",
    "\n",
    "<font color = 'blue'> 2. What % of users are converting to next page from Home page?</font><br>\n",
    "Home Page Users (100%) ---> Search Page Users (50%)<br>\n",
    "Home Page Users (100%) ---> Payment Page Users (5%)<br>\n",
    "Home Page Users (100%) ---> Payment Page Conf. Users (.2%)\n",
    "\n",
    "**For Mobile customers**<br>\n",
    "<font color = 'blue'> 1. What % of users are converting to next page from just previous page?</font><br>\n",
    "Home Page Users (100%) ---> Search Page Users (50%) <br>\n",
    "Search Page Users (100%) ---> Payment Page Users (20%)<br>\n",
    "Payment Page Users (100%) ---> Payment Page Conf. Users (10%)\n",
    "\n",
    "\n",
    "<font color = 'blue'> 2. What % of users are converting to next page from Home page?</font><br>\n",
    "Home Page Users (100%) ---> Search Page Users (50%)<br>\n",
    "Home Page Users (100%) ---> Payment Page Users (10%)<br>\n",
    "Home Page Users (100%) ---> Payment Page Conf. Users (1%)"
   ]
  },
  {
   "cell_type": "markdown",
   "metadata": {},
   "source": [
    "How to improve conversion rate?<br>\n",
    "<font color = 'blue'>Case 1: Users are not converting from Home to Search Page?</font><br>\n",
    "Possible Reasons for this ::\n",
    "1. Users might have accessed the site acciedentally because of popups, ads and/or recommendations or some other reasons.\n",
    "2. Users open website but not like the user interface or website content\n",
    "\n",
    "Possible ideas to convert such users to next page:\n",
    "1. User interface should be very tempting, user friendly and iteractive. So that if a user comes accidentally, we are able to make him visit our site.\n",
    "2. For random user bumping our website, we have scenario where user is not interested in buying the product currently but making him buy is by recommending things which are in trend and widely famous.\n",
    "3. Users should be shown dangling carrot, hence at first product should have coupon, offers or mammoth discount. \n",
    "\n",
    "<font color = 'blue'>Case 2: Users are not converting from Search to Payment Page?</font><br>\n",
    "Possible Reasons for this ::\n",
    "1. Products may be costly.\n",
    "2. Products may not be available.\n",
    "3. Good Products at users' cost are not available.\n",
    "4. Product many not contain more options to choose.\n",
    "5. Products are not eligible for cash on delivery.\n",
    "6. Ratings of products are not promising.\n",
    "\n",
    "Possible ideas to convert such users to next page:\n",
    "1. Website should have wide range of products over price, brand and quality.\n",
    "2. We should create such a model so that users think that they are getting better products in less cost i.e. cheap and best.\n",
    "3. Prices of products in our website should be in close to the prices of same products in other competitive websites.\n",
    "If we have more prices, we should justify the reasons for that. For ex. we are providing faster delivery etc.\n",
    "4. We may have monopoly for some products which have good market value.\n",
    "\n",
    "\n",
    "<font color = 'blue'>Case 3: Users are not converting from Payment Page to Payment Confirmation Page</font><br>\n",
    "Possible Reasons for this ::\n",
    "1. User adds the item in the cart and when proceeds for payment, some extra charges are applied like tax, vat & shipping charges which are not bearable.\n",
    "2. Payment Gateway Failure\n",
    "3. Limited Payment Optins\n",
    "4. Very late delivery time\n",
    "5. Delivery is not available for that location.\n",
    "\n",
    "Possible ideas to convert such users to next page:\n",
    "1. We should keep our extra charges as much less as possible.\n",
    "2. We should choose a good third party payment gateway.\n",
    "3. Multiple payment options along with multiple bank's credit/debit cards.\n",
    "4. Delivery time should be very fast.\n",
    "5. Delivery should be available for most locations."
   ]
  },
  {
   "cell_type": "markdown",
   "metadata": {},
   "source": [
    "Summary :<br>\n",
    "As we can see from above, there are about 50% users in all 3 cases which are skipping out just after home page. If we are able to convert those users to our next page we will have a good proportion of users to be converted to Payment Confirmatio Page. So we should focus more on the first conversion i.e. from Home Page to Search Page.\n",
    "\n",
    "There are few more points, i got on web to make a good conversion.\n",
    "\n",
    "1. Run a heatmap on your landing page. See where people click and don’t click. Sometimes, people click on an element that doesn’t have a link. This can be an easy fix.\n",
    "\n",
    "2. Get a scrollmap and see where people drop off the landing page. Wherever people drop off, shorten your page to that length and put your best CTA(call to action) at that spot. You should get a lot more conversions right away.\n",
    "\n",
    "3. Review user recordings. Nothing beats watching real user behavior. What draws people into your funnel? Where do they try to go? Lean into user’s natural inclinations as much as you can. and many more.\n"
   ]
  },
  {
   "cell_type": "code",
   "execution_count": null,
   "metadata": {},
   "outputs": [],
   "source": []
  }
 ],
 "metadata": {
  "kernelspec": {
   "display_name": "Python 3",
   "language": "python",
   "name": "python3"
  },
  "language_info": {
   "codemirror_mode": {
    "name": "ipython",
    "version": 3
   },
   "file_extension": ".py",
   "mimetype": "text/x-python",
   "name": "python",
   "nbconvert_exporter": "python",
   "pygments_lexer": "ipython3",
   "version": "3.7.4"
  }
 },
 "nbformat": 4,
 "nbformat_minor": 4
}
